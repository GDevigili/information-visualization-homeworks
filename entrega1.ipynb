{
 "cells": [
  {
   "cell_type": "markdown",
   "source": [
    "# Visualização da Informação\r\n",
    "## Escola de Matemática Aplicada - Fundação Getúlio Vargas\r\n",
    "## Mestrado em Modelagem Matemática"
   ],
   "metadata": {}
  },
  {
   "cell_type": "markdown",
   "source": [
    "+ Visualização do quarteto de Anscombe em uma ferramenta de interface gráfica e em um ambiente de programação\r\n",
    "\r\n",
    "+ Escolha seu ambiente de trabalho, contextualize sua escolha no cenário de ferramentas. Use os dados do quarteto de Anscombe para preparar um equivalente de um programa \"Hello World\" para sua escolha de ambiente. Explore alternativas visuais de representação desse dado\r\n",
    "\r\n",
    "+ Discussão sobre o Quarteto de Anscombe:\r\n",
    "<https://heap.io/blog/anscombes-quartet-and-why-summary-statistics-dont-tell-the-whole-story>\r\n",
    "\r\n",
    "+ Mais uma visualização desse fato: <http://flowingdata.com/2017/07/07/small-summary-stats/>\r\n",
    "\r\n",
    "+ Datasaurus Dozen:\r\n",
    "<https://www.autodesk.com/research/publications/same-stats-different-graphs>"
   ],
   "metadata": {}
  },
  {
   "cell_type": "markdown",
   "source": [],
   "metadata": {}
  }
 ],
 "metadata": {
  "orig_nbformat": 4,
  "language_info": {
   "name": "python",
   "version": "3.8.6",
   "mimetype": "text/x-python",
   "codemirror_mode": {
    "name": "ipython",
    "version": 3
   },
   "pygments_lexer": "ipython3",
   "nbconvert_exporter": "python",
   "file_extension": ".py"
  },
  "kernelspec": {
   "name": "python3",
   "display_name": "Python 3.8.6 64-bit"
  },
  "interpreter": {
   "hash": "59056dc0df861606f4d4d95f8a314b970e481652aac5c0935ce8477d5ed47273"
  }
 },
 "nbformat": 4,
 "nbformat_minor": 2
}