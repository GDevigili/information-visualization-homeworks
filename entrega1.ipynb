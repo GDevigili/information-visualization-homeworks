{
 "cells": [
  {
   "cell_type": "markdown",
   "source": [
    "# Visualização da Informação\r\n",
    "## Escola de Matemática Aplicada - Fundação Getúlio Vargas\r\n",
    "## Mestrado em Modelagem Matemática"
   ],
   "metadata": {}
  },
  {
   "cell_type": "markdown",
   "source": [
    "+ Visualização do quarteto de Anscombe em uma ferramenta de interface gráfica e em um ambiente de programação\r\n",
    "\r\n",
    "+ Escolha seu ambiente de trabalho, contextualize sua escolha no cenário de ferramentas. Use os dados do quarteto de Anscombe para preparar um equivalente de um programa \"Hello World\" para sua escolha de ambiente. Explore alternativas visuais de representação desse dado\r\n",
    "\r\n",
    "+ Discussão sobre o Quarteto de Anscombe:\r\n",
    "<https://heap.io/blog/anscombes-quartet-and-why-summary-statistics-dont-tell-the-whole-story>\r\n",
    "\r\n",
    "+ Mais uma visualização desse fato: <http://flowingdata.com/2017/07/07/small-summary-stats/>\r\n",
    "\r\n",
    "+ Datasaurus Dozen:\r\n",
    "<https://www.autodesk.com/research/publications/same-stats-different-graphs>"
   ],
   "metadata": {}
  },
  {
   "cell_type": "code",
   "execution_count": 1,
   "source": [
    "import pandas as pd\r\n",
    "import altair as alt\r\n",
    "\r\n",
    "anscombe = pd.read_csv('data/Anscombe_quartet_data')"
   ],
   "outputs": [
    {
     "output_type": "error",
     "ename": "ModuleNotFoundError",
     "evalue": "No module named 'pandas'",
     "traceback": [
      "\u001b[1;31m---------------------------------------------------------------------------\u001b[0m",
      "\u001b[1;31mModuleNotFoundError\u001b[0m                       Traceback (most recent call last)",
      "\u001b[1;32m<ipython-input-1-b5d8c8461ef6>\u001b[0m in \u001b[0;36m<module>\u001b[1;34m\u001b[0m\n\u001b[1;32m----> 1\u001b[1;33m \u001b[1;32mimport\u001b[0m \u001b[0mpandas\u001b[0m \u001b[1;32mas\u001b[0m \u001b[0mpd\u001b[0m\u001b[1;33m\u001b[0m\u001b[1;33m\u001b[0m\u001b[0m\n\u001b[0m\u001b[0;32m      2\u001b[0m \u001b[1;32mimport\u001b[0m \u001b[0maltair\u001b[0m \u001b[1;32mas\u001b[0m \u001b[0malt\u001b[0m\u001b[1;33m\u001b[0m\u001b[1;33m\u001b[0m\u001b[0m\n\u001b[0;32m      3\u001b[0m \u001b[1;33m\u001b[0m\u001b[0m\n\u001b[0;32m      4\u001b[0m \u001b[0manscombe\u001b[0m \u001b[1;33m=\u001b[0m \u001b[0mpd\u001b[0m\u001b[1;33m.\u001b[0m\u001b[0mread_csv\u001b[0m\u001b[1;33m(\u001b[0m\u001b[1;34m'data/Anscombe_quartet_data'\u001b[0m\u001b[1;33m)\u001b[0m\u001b[1;33m\u001b[0m\u001b[1;33m\u001b[0m\u001b[0m\n",
      "\u001b[1;31mModuleNotFoundError\u001b[0m: No module named 'pandas'"
     ]
    }
   ],
   "metadata": {}
  },
  {
   "cell_type": "code",
   "execution_count": null,
   "source": [],
   "outputs": [],
   "metadata": {}
  }
 ],
 "metadata": {
  "orig_nbformat": 4,
  "language_info": {
   "name": "python",
   "version": "3.8.6",
   "mimetype": "text/x-python",
   "codemirror_mode": {
    "name": "ipython",
    "version": 3
   },
   "pygments_lexer": "ipython3",
   "nbconvert_exporter": "python",
   "file_extension": ".py"
  },
  "kernelspec": {
   "name": "python3",
   "display_name": "Python 3.8.6 64-bit"
  },
  "interpreter": {
   "hash": "59056dc0df861606f4d4d95f8a314b970e481652aac5c0935ce8477d5ed47273"
  }
 },
 "nbformat": 4,
 "nbformat_minor": 2
}